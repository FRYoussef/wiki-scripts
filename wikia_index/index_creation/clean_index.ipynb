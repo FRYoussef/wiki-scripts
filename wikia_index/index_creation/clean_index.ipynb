{
 "cells": [
  {
   "cell_type": "code",
   "execution_count": 1,
   "metadata": {
    "collapsed": true
   },
   "outputs": [],
   "source": [
    "import pandas as pd\n",
    "import time"
   ]
  },
  {
   "cell_type": "markdown",
   "metadata": {},
   "source": [
    "# Curated Wikia index\n",
    "\n",
    "This notebook analyzes the checked URLs in order to:\n",
    "\n",
    "- Remove dead wikis\n",
    "- Remove redirects\n",
    "- Resolve url anomalies"
   ]
  },
  {
   "cell_type": "code",
   "execution_count": 2,
   "metadata": {
    "collapsed": false
   },
   "outputs": [
    {
     "data": {
      "text/html": [
       "<div>\n",
       "<style scoped>\n",
       "    .dataframe tbody tr th:only-of-type {\n",
       "        vertical-align: middle;\n",
       "    }\n",
       "\n",
       "    .dataframe tbody tr th {\n",
       "        vertical-align: top;\n",
       "    }\n",
       "\n",
       "    .dataframe thead th {\n",
       "        text-align: right;\n",
       "    }\n",
       "</style>\n",
       "<table border=\"1\" class=\"dataframe\">\n",
       "  <thead>\n",
       "    <tr style=\"text-align: right;\">\n",
       "      <th></th>\n",
       "      <th>url</th>\n",
       "      <th>redirect</th>\n",
       "      <th>redirect-short</th>\n",
       "    </tr>\n",
       "  </thead>\n",
       "  <tbody>\n",
       "    <tr>\n",
       "      <th>0</th>\n",
       "      <td>http://0ad.wikia.com/</td>\n",
       "      <td>http://0ad.wikia.com/wiki/0_A.D._Wiki</td>\n",
       "      <td>http://0ad.wikia.com/</td>\n",
       "    </tr>\n",
       "    <tr>\n",
       "      <th>1</th>\n",
       "      <td>http://0hourmysticknights.wikia.com/</td>\n",
       "      <td>http://0hourmysticknights.wikia.com/wiki/0_Hou...</td>\n",
       "      <td>http://0hourmysticknights.wikia.com/</td>\n",
       "    </tr>\n",
       "    <tr>\n",
       "      <th>2</th>\n",
       "      <td>http://0-xxii.wikia.com/</td>\n",
       "      <td>http://0-xxii.wikia.com/wiki/Main_Page</td>\n",
       "      <td>http://0-xxii.wikia.com/</td>\n",
       "    </tr>\n",
       "    <tr>\n",
       "      <th>3</th>\n",
       "      <td>http://00fanon.wikia.com/</td>\n",
       "      <td>http://00fanon.wikia.com/wiki/00_Fanon_Wiki</td>\n",
       "      <td>http://00fanon.wikia.com/</td>\n",
       "    </tr>\n",
       "    <tr>\n",
       "      <th>4</th>\n",
       "      <td>http://0002oifos.wikia.com/</td>\n",
       "      <td>http://0002oifos.wikia.com/wiki/Main_Page</td>\n",
       "      <td>http://0002oifos.wikia.com/</td>\n",
       "    </tr>\n",
       "  </tbody>\n",
       "</table>\n",
       "</div>"
      ],
      "text/plain": [
       "                                    url  \\\n",
       "0                 http://0ad.wikia.com/   \n",
       "1  http://0hourmysticknights.wikia.com/   \n",
       "2              http://0-xxii.wikia.com/   \n",
       "3             http://00fanon.wikia.com/   \n",
       "4           http://0002oifos.wikia.com/   \n",
       "\n",
       "                                            redirect  \\\n",
       "0              http://0ad.wikia.com/wiki/0_A.D._Wiki   \n",
       "1  http://0hourmysticknights.wikia.com/wiki/0_Hou...   \n",
       "2             http://0-xxii.wikia.com/wiki/Main_Page   \n",
       "3        http://00fanon.wikia.com/wiki/00_Fanon_Wiki   \n",
       "4          http://0002oifos.wikia.com/wiki/Main_Page   \n",
       "\n",
       "                         redirect-short  \n",
       "0                 http://0ad.wikia.com/  \n",
       "1  http://0hourmysticknights.wikia.com/  \n",
       "2              http://0-xxii.wikia.com/  \n",
       "3             http://00fanon.wikia.com/  \n",
       "4           http://0002oifos.wikia.com/  "
      ]
     },
     "execution_count": 2,
     "metadata": {},
     "output_type": "execute_result"
    }
   ],
   "source": [
    "df = pd.read_csv(\"../data/20180220-checked_index.csv\")\n",
    "df.head()"
   ]
  },
  {
   "cell_type": "code",
   "execution_count": 3,
   "metadata": {
    "collapsed": false
   },
   "outputs": [
    {
     "data": {
      "text/plain": [
       "406096"
      ]
     },
     "execution_count": 3,
     "metadata": {},
     "output_type": "execute_result"
    }
   ],
   "source": [
    "len(df)"
   ]
  },
  {
   "cell_type": "code",
   "execution_count": 4,
   "metadata": {
    "collapsed": false
   },
   "outputs": [
    {
     "data": {
      "text/plain": [
       "55308"
      ]
     },
     "execution_count": 4,
     "metadata": {},
     "output_type": "execute_result"
    }
   ],
   "source": [
    "len(df[df['redirect-short']==\"NOT AVAILABLE\"])"
   ]
  },
  {
   "cell_type": "code",
   "execution_count": 5,
   "metadata": {
    "collapsed": false
   },
   "outputs": [
    {
     "data": {
      "text/plain": [
       "55293"
      ]
     },
     "execution_count": 5,
     "metadata": {},
     "output_type": "execute_result"
    }
   ],
   "source": [
    "len(df[df['redirect'].str.startswith('4')]['url'])"
   ]
  },
  {
   "cell_type": "markdown",
   "metadata": {},
   "source": [
    "There are some wikis that do not provide a canonical URL so the redirect column contains a 2xx code but the redirect-short column shows a NOT AVAILABLE message. These urls must be resolved manually (no more than 10-15 links)"
   ]
  },
  {
   "cell_type": "code",
   "execution_count": 6,
   "metadata": {
    "collapsed": false
   },
   "outputs": [
    {
     "data": {
      "text/plain": [
       "Series([], Name: url, dtype: object)"
      ]
     },
     "execution_count": 6,
     "metadata": {},
     "output_type": "execute_result"
    }
   ],
   "source": [
    "df[df['redirect'].str.startswith('2')]['url']"
   ]
  },
  {
   "cell_type": "markdown",
   "metadata": {},
   "source": [
    "`redirect-short` column contains information about the actual URL of the links in the Wikia Sitemap. First we will analyse repeated target urls."
   ]
  },
  {
   "cell_type": "code",
   "execution_count": 7,
   "metadata": {
    "collapsed": false,
    "scrolled": false
   },
   "outputs": [
    {
     "data": {
      "text/plain": [
       "redirect-short\n",
       "NOT AVAILABLE                                                         55308\n",
       "http://community.wikia.com/                                           10381\n",
       "http://es.pokemon.wikia.com/                                             12\n",
       "http://es.supercampeones.wikia.com/                                      12\n",
       "http://anne-happy.wikia.com/                                              6\n",
       "http://martin-mystery.wikia.com/                                          6\n",
       "http://yolosweg.wikia.com/                                                5\n",
       "http://xhamrhyl09.wikia.com/                                              5\n",
       "http://yourguide.wikia.com/                                               5\n",
       "http://zh.tol.wikia.com/                                                  5\n",
       "http://whenstarclangetsboredfanfic.wikia.com/                             5\n",
       "http://were-a-group-stray-dog-rp.wikia.com/                               5\n",
       "http://official-cup.wikia.com/                                            5\n",
       "http://the-nordia.wikia.com/                                              5\n",
       "http://worldproblems.wikia.com/                                           5\n",
       "http://skaza.wikia.com/                                                   5\n",
       "http://unlimited-tan.wikia.com/                                           5\n",
       "http://steveshow.wikia.com/                                               4\n",
       "http://ru.rashdragon.wikia.com/                                           4\n",
       "http://ru.alternativa.wikia.com/                                          4\n",
       "http://zh.dothack.wikia.com/                                              4\n",
       "http://ru.terrariapocket.wikia.com/                                       4\n",
       "http://woimmortals.wikia.com/                                             4\n",
       "http://ruinsofertroncampaignguide.wikia.com/                              4\n",
       "http://ru.mechanik.wikia.com/                                             4\n",
       "http://unofficial-gopedia.wikia.com/                                      4\n",
       "http://lacasadepapel.wikia.com/                                           4\n",
       "http://you-greedy-dirtbag.wikia.com/                                      4\n",
       "http://ru.poveleniyadskoisest.wikia.com/                                  4\n",
       "http://virtual-national-socialist-party-propaganda-page.wikia.com/        4\n",
       "                                                                      ...  \n",
       "http://providencecluster.wikia.com/                                       1\n",
       "http://providencesofcanterbury.wikia.com/                                 1\n",
       "http://providentia.wikia.com/                                             1\n",
       "http://providenz.wikia.com/                                               1\n",
       "http://province.wikia.com/                                                1\n",
       "http://provisional-soda-dungeon.wikia.com/                                1\n",
       "http://provocateur.wikia.com/                                             1\n",
       "http://prow.wikia.com/                                                    1\n",
       "http://proweed.wikia.com/                                                 1\n",
       "http://provalue.wikia.com/                                                1\n",
       "http://prova11223333.wikia.com/                                           1\n",
       "http://prouty-family.wikia.com/                                           1\n",
       "http://prototype-the-game.wikia.com/                                      1\n",
       "http://protospeed.wikia.com/                                              1\n",
       "http://protoss-expanded.wikia.com/                                        1\n",
       "http://protoss-legends-shinobi-world-storm.wikia.com/                     1\n",
       "http://prototype-explore-the-unused-side.wikia.com/                       1\n",
       "http://prototype-fanon.wikia.com/                                         1\n",
       "http://prototype-manteler-universe.wikia.com/                             1\n",
       "http://prototype-series.wikia.com/                                        1\n",
       "http://prototype.wikia.com/                                               1\n",
       "http://proust.wikia.com/                                                  1\n",
       "http://prototype2.wikia.com/                                              1\n",
       "http://prototypefanon.wikia.com/                                          1\n",
       "http://prototypelazbitx.wikia.com/                                        1\n",
       "http://prototypelocos.wikia.com/                                          1\n",
       "http://prototypestory.wikia.com/                                          1\n",
       "http://proud-2-pose.wikia.com/                                            1\n",
       "http://prourbex.wikia.com/                                                1\n",
       "http://lego-cwverse-game.wikia.com/                                       1\n",
       "Name: url, Length: 339658, dtype: int64"
      ]
     },
     "execution_count": 7,
     "metadata": {},
     "output_type": "execute_result"
    }
   ],
   "source": [
    "repetitions = df.groupby(by=\"redirect-short\")['url'].count()\n",
    "repetitions.sort_values(ascending=False)"
   ]
  },
  {
   "cell_type": "markdown",
   "metadata": {},
   "source": [
    "There are 10381 urls pointing to Wikia Community wiki. We will see if it is the same URL studying the content of the `redirect` column."
   ]
  },
  {
   "cell_type": "code",
   "execution_count": 8,
   "metadata": {
    "collapsed": false
   },
   "outputs": [
    {
     "data": {
      "text/html": [
       "<div>\n",
       "<style scoped>\n",
       "    .dataframe tbody tr th:only-of-type {\n",
       "        vertical-align: middle;\n",
       "    }\n",
       "\n",
       "    .dataframe tbody tr th {\n",
       "        vertical-align: top;\n",
       "    }\n",
       "\n",
       "    .dataframe thead th {\n",
       "        text-align: right;\n",
       "    }\n",
       "</style>\n",
       "<table border=\"1\" class=\"dataframe\">\n",
       "  <thead>\n",
       "    <tr style=\"text-align: right;\">\n",
       "      <th></th>\n",
       "      <th>url</th>\n",
       "      <th>redirect-short</th>\n",
       "    </tr>\n",
       "    <tr>\n",
       "      <th>redirect</th>\n",
       "      <th></th>\n",
       "      <th></th>\n",
       "    </tr>\n",
       "  </thead>\n",
       "  <tbody>\n",
       "    <tr>\n",
       "      <th>http://community.wikia.com/wiki/Community_Central</th>\n",
       "      <td>3</td>\n",
       "      <td>3</td>\n",
       "    </tr>\n",
       "    <tr>\n",
       "      <th>http://community.wikia.com/wiki/Community_Central:Not_a_valid_community</th>\n",
       "      <td>10375</td>\n",
       "      <td>10375</td>\n",
       "    </tr>\n",
       "    <tr>\n",
       "      <th>http://community.wikia.com/wiki/Hub:Lifestyle</th>\n",
       "      <td>1</td>\n",
       "      <td>1</td>\n",
       "    </tr>\n",
       "    <tr>\n",
       "      <th>http://community.wikia.com/wiki/Special:Chat</th>\n",
       "      <td>1</td>\n",
       "      <td>1</td>\n",
       "    </tr>\n",
       "    <tr>\n",
       "      <th>http://community.wikia.com/wiki/Special:Forum</th>\n",
       "      <td>1</td>\n",
       "      <td>1</td>\n",
       "    </tr>\n",
       "  </tbody>\n",
       "</table>\n",
       "</div>"
      ],
      "text/plain": [
       "                                                                           url  \\\n",
       "redirect                                                                         \n",
       "http://community.wikia.com/wiki/Community_Central                            3   \n",
       "http://community.wikia.com/wiki/Community_Central:Not_a_valid_community  10375   \n",
       "http://community.wikia.com/wiki/Hub:Lifestyle                                1   \n",
       "http://community.wikia.com/wiki/Special:Chat                                 1   \n",
       "http://community.wikia.com/wiki/Special:Forum                                1   \n",
       "\n",
       "                                                                         redirect-short  \n",
       "redirect                                                                                 \n",
       "http://community.wikia.com/wiki/Community_Central                                     3  \n",
       "http://community.wikia.com/wiki/Community_Central:Not_a_valid_community           10375  \n",
       "http://community.wikia.com/wiki/Hub:Lifestyle                                         1  \n",
       "http://community.wikia.com/wiki/Special:Chat                                          1  \n",
       "http://community.wikia.com/wiki/Special:Forum                                         1  "
      ]
     },
     "execution_count": 8,
     "metadata": {},
     "output_type": "execute_result"
    }
   ],
   "source": [
    "pd.set_option('max_colwidth',90)\n",
    "df[df['redirect-short']==\"http://community.wikia.com/\"].groupby(by=\"redirect\").count()"
   ]
  },
  {
   "cell_type": "markdown",
   "metadata": {},
   "source": [
    "As we can see, additionally to the \"NOT AVAILABLE\" Wikis, we also have to remove the \"dead\" wikis, the urls that point to the special Wikia page that informs that the Wiki is not a valid community.\n",
    "\n",
    "Additionally, we have checked manually the rest of the wikis pointing to community.wikia and we will update the actual urls."
   ]
  },
  {
   "cell_type": "code",
   "execution_count": 9,
   "metadata": {
    "collapsed": false
   },
   "outputs": [],
   "source": [
    "df.loc[df['redirect']==\"http://community.wikia.com/wiki/Community_Central:Not_a_valid_community\",['redirect-short']]=\"NOT AVAILABLE\"\n",
    "\n",
    "df.loc[df['redirect']==\"http://community.wikia.com/wiki/Hub:Lifestyle\",['redirect-short']]=df['url']\n",
    "df.loc[df['redirect']==\"http://community.wikia.com/wiki/Special:Chat\",['redirect-short']]=df['url']\n",
    "df.loc[df['redirect']==\"http://community.wikia.com/wiki/Special:Forum\",['redirect-short']]=df['url']"
   ]
  },
  {
   "cell_type": "code",
   "execution_count": 10,
   "metadata": {
    "collapsed": false
   },
   "outputs": [
    {
     "data": {
      "text/plain": [
       "redirect-short\n",
       "NOT AVAILABLE                                                         65683\n",
       "http://es.pokemon.wikia.com/                                             12\n",
       "http://es.supercampeones.wikia.com/                                      12\n",
       "http://anne-happy.wikia.com/                                              6\n",
       "http://martin-mystery.wikia.com/                                          6\n",
       "http://zh.tol.wikia.com/                                                  5\n",
       "http://skaza.wikia.com/                                                   5\n",
       "http://were-a-group-stray-dog-rp.wikia.com/                               5\n",
       "http://whenstarclangetsboredfanfic.wikia.com/                             5\n",
       "http://yourguide.wikia.com/                                               5\n",
       "http://yolosweg.wikia.com/                                                5\n",
       "http://the-nordia.wikia.com/                                              5\n",
       "http://worldproblems.wikia.com/                                           5\n",
       "http://xhamrhyl09.wikia.com/                                              5\n",
       "http://official-cup.wikia.com/                                            5\n",
       "http://unlimited-tan.wikia.com/                                           5\n",
       "http://zh.twilightnetwork.wikia.com/                                      4\n",
       "http://ruinsofertroncampaignguide.wikia.com/                              4\n",
       "http://shadowoftheeclipse.wikia.com/                                      4\n",
       "http://ru.goprincessprecure.wikia.com/                                    4\n",
       "http://virtual-national-socialist-party-propaganda-page.wikia.com/        4\n",
       "http://servervisitor-a-roblox-creepypasta.wikia.com/                      4\n",
       "http://zh.dothack.wikia.com/                                              4\n",
       "http://ru.terrariapocket.wikia.com/                                       4\n",
       "http://woimmortals.wikia.com/                                             4\n",
       "http://ru.voinamirov.wikia.com/                                           4\n",
       "http://lacasadepapel.wikia.com/                                           4\n",
       "http://you-greedy-dirtbag.wikia.com/                                      4\n",
       "http://ru.mechanik.wikia.com/                                             4\n",
       "http://steveshow.wikia.com/                                               4\n",
       "                                                                      ...  \n",
       "http://providencesofcanterbury.wikia.com/                                 1\n",
       "http://providentia.wikia.com/                                             1\n",
       "http://providenz.wikia.com/                                               1\n",
       "http://province.wikia.com/                                                1\n",
       "http://provisional-soda-dungeon.wikia.com/                                1\n",
       "http://provocateur.wikia.com/                                             1\n",
       "http://prow.wikia.com/                                                    1\n",
       "http://proweed.wikia.com/                                                 1\n",
       "http://prowrestling.wikia.com/                                            1\n",
       "http://provamia.wikia.com/                                                1\n",
       "http://provalue.wikia.com/                                                1\n",
       "http://prova11223333.wikia.com/                                           1\n",
       "http://prototype.wikia.com/                                               1\n",
       "http://protoss-expanded.wikia.com/                                        1\n",
       "http://protoss-legends-shinobi-world-storm.wikia.com/                     1\n",
       "http://prototype-explore-the-unused-side.wikia.com/                       1\n",
       "http://prototype-fanon.wikia.com/                                         1\n",
       "http://prototype-manteler-universe.wikia.com/                             1\n",
       "http://prototype-series.wikia.com/                                        1\n",
       "http://prototype-the-game.wikia.com/                                      1\n",
       "http://prototype2.wikia.com/                                              1\n",
       "http://prouty-family.wikia.com/                                           1\n",
       "http://prototypefanon.wikia.com/                                          1\n",
       "http://prototypelazbitx.wikia.com/                                        1\n",
       "http://prototypelocos.wikia.com/                                          1\n",
       "http://prototypestory.wikia.com/                                          1\n",
       "http://proud-2-pose.wikia.com/                                            1\n",
       "http://prourbex.wikia.com/                                                1\n",
       "http://proust.wikia.com/                                                  1\n",
       "http://lego-cwverse-video-game.wikia.com/                                 1\n",
       "Name: url, Length: 339661, dtype: int64"
      ]
     },
     "execution_count": 10,
     "metadata": {},
     "output_type": "execute_result"
    }
   ],
   "source": [
    "repetitions = df.groupby(by=\"redirect-short\")['url'].count()\n",
    "repetitions.sort_values(ascending=False)"
   ]
  },
  {
   "cell_type": "markdown",
   "metadata": {},
   "source": [
    "Finally, we will remove the \"NOT AVAILABLE\" wikis"
   ]
  },
  {
   "cell_type": "code",
   "execution_count": 11,
   "metadata": {
    "collapsed": false
   },
   "outputs": [
    {
     "data": {
      "text/plain": [
       "340413"
      ]
     },
     "execution_count": 11,
     "metadata": {},
     "output_type": "execute_result"
    }
   ],
   "source": [
    "curatedIndex = df[df['redirect-short']!=\"NOT AVAILABLE\"].copy()\n",
    "len(curatedIndex)"
   ]
  },
  {
   "cell_type": "code",
   "execution_count": 12,
   "metadata": {
    "collapsed": false
   },
   "outputs": [
    {
     "data": {
      "text/plain": [
       "339871"
      ]
     },
     "execution_count": 12,
     "metadata": {},
     "output_type": "execute_result"
    }
   ],
   "source": [
    "curatedIndex.drop_duplicates(subset=\"url\", inplace=True)\n",
    "len(curatedIndex)"
   ]
  },
  {
   "cell_type": "code",
   "execution_count": 13,
   "metadata": {
    "collapsed": false
   },
   "outputs": [
    {
     "data": {
      "text/plain": [
       "redirect-short\n",
       "http://es.pokemon.wikia.com/                     12\n",
       "http://es.supercampeones.wikia.com/              12\n",
       "http://martin-mystery.wikia.com/                  6\n",
       "http://de.anubis.wikia.com/                       4\n",
       "http://ru.dragon-mania-legends.wikia.com/         4\n",
       "http://lacasadepapel.wikia.com/                   4\n",
       "http://de.battlefield.wikia.com/                  4\n",
       "http://de.beyond-two-souls.wikia.com/             4\n",
       "http://transformers.wikia.com/                    4\n",
       "http://ru.mightandmagic.wikia.com/                3\n",
       "http://zh.community.wikia.com/                    3\n",
       "http://es.ben10.wikia.com/                        3\n",
       "http://ru.kingdom-come-deliverance.wikia.com/     3\n",
       "http://shadowhunters.wikia.com/                   3\n",
       "http://de.nintendogs.wikia.com/                   3\n",
       "http://de.myheroacademia.wikia.com/               3\n",
       "http://es.prettylittleliars.wikia.com/            3\n",
       "http://greatest-movies.wikia.com/                 3\n",
       "http://community.wikia.com/                       3\n",
       "http://dota.wikia.com/                            3\n",
       "http://fr.amour-sucre.wikia.com/                  3\n",
       "http://vampirediaries.wikia.com/                  3\n",
       "http://ru.warhammer40k.wikia.com/                 3\n",
       "http://gwfanon.wikia.com/                         3\n",
       "http://delirium.wikia.com/                        3\n",
       "http://ru.nintendo.wikia.com/                     3\n",
       "http://chdk.wikia.com/                            2\n",
       "http://ru.civilopedia.wikia.com/                  2\n",
       "http://ttte.wikia.com/                            2\n",
       "http://the-croods.wikia.com/                      2\n",
       "                                                 ..\n",
       "http://pscarpedia.wikia.com/                      1\n",
       "http://pscosteensummercircle.wikia.com/           1\n",
       "http://psd.wikia.com/                             1\n",
       "http://psdev.wikia.com/                           1\n",
       "http://psdnd.wikia.com/                           1\n",
       "http://pse.wikia.com/                             1\n",
       "http://pseudana.wikia.com/                        1\n",
       "http://pseudo-everything.wikia.com/               1\n",
       "http://pseudo-sandpit.wikia.com/                  1\n",
       "http://psagency.wikia.com/                        1\n",
       "http://psabr.wikia.com/                           1\n",
       "http://ps5neonneon2.wikia.com/                    1\n",
       "http://ps3callofdutymodernwarfare2.wikia.com/     1\n",
       "http://ps2character.wikia.com/                    1\n",
       "http://ps2gamers.wikia.com/                       1\n",
       "http://ps2gaming.wikia.com/                       1\n",
       "http://ps2ghosthunter.wikia.com/                  1\n",
       "http://ps2info.wikia.com/                         1\n",
       "http://ps2j.wikia.com/                            1\n",
       "http://ps3.wikia.com/                             1\n",
       "http://ps3codwm2.wikia.com/                       1\n",
       "http://ps4caracteristicas.wikia.com/              1\n",
       "http://ps3g.wikia.com/                            1\n",
       "http://ps3home.wikia.com/                         1\n",
       "http://ps3mag.wikia.com/                          1\n",
       "http://ps3prices.wikia.com/                       1\n",
       "http://ps3trophies.wikia.com/                     1\n",
       "http://ps4-and-xone.wikia.com/                    1\n",
       "http://ps4-games.wikia.com/                       1\n",
       "http://0-robloxhelp-0.wikia.com/                  1\n",
       "Name: url, Length: 339660, dtype: int64"
      ]
     },
     "execution_count": 13,
     "metadata": {},
     "output_type": "execute_result"
    }
   ],
   "source": [
    "repetitions = curatedIndex.groupby(by=\"redirect-short\")['url'].count()\n",
    "repetitions.sort_values(ascending=False)"
   ]
  },
  {
   "cell_type": "markdown",
   "metadata": {},
   "source": [
    "Finally, we save only the urls in `redirect-short`, removing duplicates"
   ]
  },
  {
   "cell_type": "code",
   "execution_count": 14,
   "metadata": {
    "collapsed": true
   },
   "outputs": [],
   "source": [
    "timestr = time.strftime(\"%Y%m%d\")\n",
    "thefile = open('../data/{}-{}.txt'.format(timestr,'curatedIndex'), 'w')\n",
    "for item in curatedIndex['redirect-short'].unique():\n",
    "    thefile.write(\"%s\\n\" % item)"
   ]
  }
 ],
 "metadata": {
  "kernelspec": {
   "display_name": "Python 3",
   "language": "python",
   "name": "python3"
  },
  "language_info": {
   "codemirror_mode": {
    "name": "ipython",
    "version": 3
   },
   "file_extension": ".py",
   "mimetype": "text/x-python",
   "name": "python",
   "nbconvert_exporter": "python",
   "pygments_lexer": "ipython3",
   "version": "3.5.2"
  },
  "toc": {
   "colors": {
    "hover_highlight": "#DAA520",
    "navigate_num": "#000000",
    "navigate_text": "#333333",
    "running_highlight": "#FF0000",
    "selected_highlight": "#FFD700",
    "sidebar_border": "#EEEEEE",
    "wrapper_background": "#FFFFFF"
   },
   "moveMenuLeft": true,
   "nav_menu": {
    "height": "31px",
    "width": "252px"
   },
   "navigate_menu": true,
   "number_sections": true,
   "sideBar": true,
   "threshold": 4,
   "toc_cell": false,
   "toc_section_display": "block",
   "toc_window_display": false,
   "widenNotebook": false
  },
  "varInspector": {
   "cols": {
    "lenName": 16,
    "lenType": 16,
    "lenVar": 40
   },
   "kernels_config": {
    "python": {
     "delete_cmd_postfix": "",
     "delete_cmd_prefix": "del ",
     "library": "var_list.py",
     "varRefreshCmd": "print(var_dic_list())"
    },
    "r": {
     "delete_cmd_postfix": ") ",
     "delete_cmd_prefix": "rm(",
     "library": "var_list.r",
     "varRefreshCmd": "cat(var_dic_list()) "
    }
   },
   "types_to_exclude": [
    "module",
    "function",
    "builtin_function_or_method",
    "instance",
    "_Feature"
   ],
   "window_display": false
  }
 },
 "nbformat": 4,
 "nbformat_minor": 0
}
