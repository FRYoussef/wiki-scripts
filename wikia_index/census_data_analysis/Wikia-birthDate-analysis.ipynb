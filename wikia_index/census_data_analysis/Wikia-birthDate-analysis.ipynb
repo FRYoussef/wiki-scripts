{
 "cells": [
  {
   "cell_type": "code",
   "execution_count": 1,
   "metadata": {
    "ExecuteTime": {
     "end_time": "2018-03-15T09:08:10.467943Z",
     "start_time": "2018-03-15T09:08:10.345047Z"
    },
    "collapsed": false
   },
   "outputs": [
    {
     "data": {
      "text/html": [
       "<script>requirejs.config({paths: { 'plotly': ['https://cdn.plot.ly/plotly-latest.min']},});if(!window.Plotly) {{require(['plotly'],function(plotly) {window.Plotly=plotly;});}}</script>"
      ],
      "text/vnd.plotly.v1+html": [
       "<script>requirejs.config({paths: { 'plotly': ['https://cdn.plot.ly/plotly-latest.min']},});if(!window.Plotly) {{require(['plotly'],function(plotly) {window.Plotly=plotly;});}}</script>"
      ]
     },
     "metadata": {},
     "output_type": "display_data"
    }
   ],
   "source": [
    "import pandas as pd\n",
    "import numpy as np\n",
    "import pylab\n",
    "%matplotlib inline\n",
    "\n",
    "import plotly.graph_objs as go\n",
    "from plotly.offline import init_notebook_mode, iplot\n",
    "init_notebook_mode(connected=True)"
   ]
  },
  {
   "cell_type": "markdown",
   "metadata": {},
   "source": [
    "# Load data"
   ]
  },
  {
   "cell_type": "code",
   "execution_count": 2,
   "metadata": {
    "ExecuteTime": {
     "end_time": "2018-03-15T09:08:13.428271Z",
     "start_time": "2018-03-15T09:08:10.468915Z"
    },
    "collapsed": false
   },
   "outputs": [
    {
     "data": {
      "text/html": [
       "<div>\n",
       "<style scoped>\n",
       "    .dataframe tbody tr th:only-of-type {\n",
       "        vertical-align: middle;\n",
       "    }\n",
       "\n",
       "    .dataframe tbody tr th {\n",
       "        vertical-align: top;\n",
       "    }\n",
       "\n",
       "    .dataframe thead th {\n",
       "        text-align: right;\n",
       "    }\n",
       "</style>\n",
       "<table border=\"1\" class=\"dataframe\">\n",
       "  <thead>\n",
       "    <tr style=\"text-align: right;\">\n",
       "      <th></th>\n",
       "      <th>url</th>\n",
       "      <th>domain</th>\n",
       "      <th>hub</th>\n",
       "      <th>id</th>\n",
       "      <th>lang</th>\n",
       "      <th>language</th>\n",
       "      <th>name</th>\n",
       "      <th>stats.activeUsers</th>\n",
       "      <th>stats.admins</th>\n",
       "      <th>stats.articles</th>\n",
       "      <th>...</th>\n",
       "      <th>stats.nonarticles</th>\n",
       "      <th>users_1</th>\n",
       "      <th>users_5</th>\n",
       "      <th>users_10</th>\n",
       "      <th>users_20</th>\n",
       "      <th>users_50</th>\n",
       "      <th>users_100</th>\n",
       "      <th>bots</th>\n",
       "      <th>birthDate</th>\n",
       "      <th>datetime.birthDate</th>\n",
       "    </tr>\n",
       "    <tr>\n",
       "      <th>datetime.birthDate</th>\n",
       "      <th></th>\n",
       "      <th></th>\n",
       "      <th></th>\n",
       "      <th></th>\n",
       "      <th></th>\n",
       "      <th></th>\n",
       "      <th></th>\n",
       "      <th></th>\n",
       "      <th></th>\n",
       "      <th></th>\n",
       "      <th></th>\n",
       "      <th></th>\n",
       "      <th></th>\n",
       "      <th></th>\n",
       "      <th></th>\n",
       "      <th></th>\n",
       "      <th></th>\n",
       "      <th></th>\n",
       "      <th></th>\n",
       "      <th></th>\n",
       "      <th></th>\n",
       "    </tr>\n",
       "  </thead>\n",
       "  <tbody>\n",
       "    <tr>\n",
       "      <th>2010-12-14 14:01:00</th>\n",
       "      <td>http://0ad.wikia.com/</td>\n",
       "      <td>0ad.wikia.com</td>\n",
       "      <td>Games</td>\n",
       "      <td>194794.0</td>\n",
       "      <td>en</td>\n",
       "      <td>en</td>\n",
       "      <td>0 A.D. Wiki</td>\n",
       "      <td>1.0</td>\n",
       "      <td>3.0</td>\n",
       "      <td>101.0</td>\n",
       "      <td>...</td>\n",
       "      <td>824.0</td>\n",
       "      <td>38</td>\n",
       "      <td>20</td>\n",
       "      <td>14</td>\n",
       "      <td>9</td>\n",
       "      <td>7</td>\n",
       "      <td>5</td>\n",
       "      <td>8</td>\n",
       "      <td>14:01, December 14, 2010</td>\n",
       "      <td>2010-12-14 14:01:00</td>\n",
       "    </tr>\n",
       "    <tr>\n",
       "      <th>2016-09-13 02:10:00</th>\n",
       "      <td>http://0hourmysticknights.wikia.com/</td>\n",
       "      <td>0hourmysticknights.wikia.com</td>\n",
       "      <td>Games</td>\n",
       "      <td>1459872.0</td>\n",
       "      <td>en</td>\n",
       "      <td>en</td>\n",
       "      <td>0 Hour: Mystic Knights Wikia</td>\n",
       "      <td>0.0</td>\n",
       "      <td>1.0</td>\n",
       "      <td>22.0</td>\n",
       "      <td>...</td>\n",
       "      <td>139.0</td>\n",
       "      <td>7</td>\n",
       "      <td>6</td>\n",
       "      <td>3</td>\n",
       "      <td>1</td>\n",
       "      <td>1</td>\n",
       "      <td>1</td>\n",
       "      <td>4</td>\n",
       "      <td>02:10, September 13, 2016</td>\n",
       "      <td>2016-09-13 02:10:00</td>\n",
       "    </tr>\n",
       "    <tr>\n",
       "      <th>2013-02-04 10:34:00</th>\n",
       "      <td>http://0-xxii.wikia.com/</td>\n",
       "      <td>0-xxii.wikia.com</td>\n",
       "      <td>Games</td>\n",
       "      <td>685186.0</td>\n",
       "      <td>en</td>\n",
       "      <td>en</td>\n",
       "      <td>0-XXII Wiki</td>\n",
       "      <td>0.0</td>\n",
       "      <td>1.0</td>\n",
       "      <td>34.0</td>\n",
       "      <td>...</td>\n",
       "      <td>262.0</td>\n",
       "      <td>5</td>\n",
       "      <td>3</td>\n",
       "      <td>3</td>\n",
       "      <td>2</td>\n",
       "      <td>2</td>\n",
       "      <td>1</td>\n",
       "      <td>3</td>\n",
       "      <td>10:34, February 4, 2013</td>\n",
       "      <td>2013-02-04 10:34:00</td>\n",
       "    </tr>\n",
       "    <tr>\n",
       "      <th>2011-08-14 10:18:00</th>\n",
       "      <td>http://00fanon.wikia.com/</td>\n",
       "      <td>00fanon.wikia.com</td>\n",
       "      <td>TV</td>\n",
       "      <td>350933.0</td>\n",
       "      <td>en</td>\n",
       "      <td>en</td>\n",
       "      <td>00 Fanon Wiki</td>\n",
       "      <td>1.0</td>\n",
       "      <td>1.0</td>\n",
       "      <td>93.0</td>\n",
       "      <td>...</td>\n",
       "      <td>257.0</td>\n",
       "      <td>5</td>\n",
       "      <td>2</td>\n",
       "      <td>1</td>\n",
       "      <td>1</td>\n",
       "      <td>1</td>\n",
       "      <td>1</td>\n",
       "      <td>3</td>\n",
       "      <td>10:18, August 14, 2011</td>\n",
       "      <td>2011-08-14 10:18:00</td>\n",
       "    </tr>\n",
       "    <tr>\n",
       "      <th>2013-01-24 16:04:00</th>\n",
       "      <td>http://0002oifos.wikia.com/</td>\n",
       "      <td>0002oifos.wikia.com</td>\n",
       "      <td>Games</td>\n",
       "      <td>678685.0</td>\n",
       "      <td>en</td>\n",
       "      <td>en</td>\n",
       "      <td>0002oifos Wiki</td>\n",
       "      <td>0.0</td>\n",
       "      <td>1.0</td>\n",
       "      <td>6.0</td>\n",
       "      <td>...</td>\n",
       "      <td>263.0</td>\n",
       "      <td>3</td>\n",
       "      <td>1</td>\n",
       "      <td>1</td>\n",
       "      <td>1</td>\n",
       "      <td>1</td>\n",
       "      <td>1</td>\n",
       "      <td>2</td>\n",
       "      <td>16:04, January 24, 2013</td>\n",
       "      <td>2013-01-24 16:04:00</td>\n",
       "    </tr>\n",
       "  </tbody>\n",
       "</table>\n",
       "<p>5 rows × 29 columns</p>\n",
       "</div>"
      ],
      "text/plain": [
       "                                                      url  \\\n",
       "datetime.birthDate                                          \n",
       "2010-12-14 14:01:00                 http://0ad.wikia.com/   \n",
       "2016-09-13 02:10:00  http://0hourmysticknights.wikia.com/   \n",
       "2013-02-04 10:34:00              http://0-xxii.wikia.com/   \n",
       "2011-08-14 10:18:00             http://00fanon.wikia.com/   \n",
       "2013-01-24 16:04:00           http://0002oifos.wikia.com/   \n",
       "\n",
       "                                           domain    hub         id lang  \\\n",
       "datetime.birthDate                                                         \n",
       "2010-12-14 14:01:00                 0ad.wikia.com  Games   194794.0   en   \n",
       "2016-09-13 02:10:00  0hourmysticknights.wikia.com  Games  1459872.0   en   \n",
       "2013-02-04 10:34:00              0-xxii.wikia.com  Games   685186.0   en   \n",
       "2011-08-14 10:18:00             00fanon.wikia.com     TV   350933.0   en   \n",
       "2013-01-24 16:04:00           0002oifos.wikia.com  Games   678685.0   en   \n",
       "\n",
       "                    language                          name  stats.activeUsers  \\\n",
       "datetime.birthDate                                                              \n",
       "2010-12-14 14:01:00       en                   0 A.D. Wiki                1.0   \n",
       "2016-09-13 02:10:00       en  0 Hour: Mystic Knights Wikia                0.0   \n",
       "2013-02-04 10:34:00       en                   0-XXII Wiki                0.0   \n",
       "2011-08-14 10:18:00       en                 00 Fanon Wiki                1.0   \n",
       "2013-01-24 16:04:00       en                0002oifos Wiki                0.0   \n",
       "\n",
       "                     stats.admins  stats.articles         ...          \\\n",
       "datetime.birthDate                                        ...           \n",
       "2010-12-14 14:01:00           3.0           101.0         ...           \n",
       "2016-09-13 02:10:00           1.0            22.0         ...           \n",
       "2013-02-04 10:34:00           1.0            34.0         ...           \n",
       "2011-08-14 10:18:00           1.0            93.0         ...           \n",
       "2013-01-24 16:04:00           1.0             6.0         ...           \n",
       "\n",
       "                     stats.nonarticles  users_1  users_5  users_10  users_20  \\\n",
       "datetime.birthDate                                                             \n",
       "2010-12-14 14:01:00              824.0       38       20        14         9   \n",
       "2016-09-13 02:10:00              139.0        7        6         3         1   \n",
       "2013-02-04 10:34:00              262.0        5        3         3         2   \n",
       "2011-08-14 10:18:00              257.0        5        2         1         1   \n",
       "2013-01-24 16:04:00              263.0        3        1         1         1   \n",
       "\n",
       "                     users_50 users_100 bots                  birthDate  \\\n",
       "datetime.birthDate                                                        \n",
       "2010-12-14 14:01:00         7         5    8   14:01, December 14, 2010   \n",
       "2016-09-13 02:10:00         1         1    4  02:10, September 13, 2016   \n",
       "2013-02-04 10:34:00         2         1    3    10:34, February 4, 2013   \n",
       "2011-08-14 10:18:00         1         1    3     10:18, August 14, 2011   \n",
       "2013-01-24 16:04:00         1         1    2    16:04, January 24, 2013   \n",
       "\n",
       "                     datetime.birthDate  \n",
       "datetime.birthDate                       \n",
       "2010-12-14 14:01:00 2010-12-14 14:01:00  \n",
       "2016-09-13 02:10:00 2016-09-13 02:10:00  \n",
       "2013-02-04 10:34:00 2013-02-04 10:34:00  \n",
       "2011-08-14 10:18:00 2011-08-14 10:18:00  \n",
       "2013-01-24 16:04:00 2013-01-24 16:04:00  \n",
       "\n",
       "[5 rows x 29 columns]"
      ]
     },
     "execution_count": 2,
     "metadata": {},
     "output_type": "execute_result"
    }
   ],
   "source": [
    "df = pd.read_csv(\"../data/20180220-wikia_stats_users_birthdate.csv\")\n",
    "df['datetime.birthDate'] = pd.to_datetime(df['datetime.birthDate'], infer_datetime_format=True, errors='coerce') \n",
    "df.set_index(df['datetime.birthDate'], inplace=True)\n",
    "df.head()"
   ]
  },
  {
   "cell_type": "markdown",
   "metadata": {},
   "source": [
    "# Number of wikis over the years"
   ]
  },
  {
   "cell_type": "code",
   "execution_count": 3,
   "metadata": {
    "ExecuteTime": {
     "end_time": "2018-03-15T09:08:27.917165Z",
     "start_time": "2018-03-15T09:08:26.835214Z"
    },
    "collapsed": false
   },
   "outputs": [
    {
     "data": {
      "text/plain": [
       "datetime.birthDate\n",
       "1998-12-31      224\n",
       "1999-12-31        7\n",
       "2000-12-31        0\n",
       "2001-12-31        2\n",
       "2002-12-31        0\n",
       "2003-12-31        0\n",
       "2004-12-31       31\n",
       "2005-12-31      516\n",
       "2006-12-31     1123\n",
       "2007-12-31     1111\n",
       "2008-12-31     3295\n",
       "2009-12-31    16410\n",
       "2010-12-31    32576\n",
       "2011-12-31    27429\n",
       "2012-12-31    31491\n",
       "2013-12-31    32641\n",
       "2014-12-31    31962\n",
       "2015-12-31    36450\n",
       "2016-12-31    35694\n",
       "2017-12-31    56855\n",
       "2018-12-31    17529\n",
       "Name: id, dtype: int64"
      ]
     },
     "execution_count": 3,
     "metadata": {},
     "output_type": "execute_result"
    }
   ],
   "source": [
    "byYear = df.resample('y').count()['id']\n",
    "byYear"
   ]
  },
  {
   "cell_type": "markdown",
   "metadata": {},
   "source": [
    "Data shows an anomaly because Wikia was created in 2004. A deepen analysis of some of the anomaly wikis shows that some fake birthdates were included by a maintenance script (see [the earliest edit of this wiki, as an example](http://blasterman.wikia.com/wiki/Blasterman_Wiki?dir=prev&action=history)).\n",
    "\n",
    "Additionally, 2018 wikis are very young (no more than two months) so they will be also removed.\n"
   ]
  },
  {
   "cell_type": "code",
   "execution_count": 4,
   "metadata": {
    "collapsed": false
   },
   "outputs": [
    {
     "data": {
      "text/plain": [
       "datetime.birthDate\n",
       "2004-12-31       18\n",
       "2005-12-31      364\n",
       "2006-12-31      735\n",
       "2007-12-31      658\n",
       "2008-12-31     1519\n",
       "2009-12-31     2910\n",
       "2010-12-31     3705\n",
       "2011-12-31     3688\n",
       "2012-12-31     4147\n",
       "2013-12-31     7201\n",
       "2014-12-31     8675\n",
       "2015-12-31    15187\n",
       "2016-12-31    10498\n",
       "2017-12-31    21031\n",
       "Freq: A-DEC, Name: id, dtype: int64"
      ]
     },
     "execution_count": 4,
     "metadata": {},
     "output_type": "execute_result"
    }
   ],
   "source": [
    "dfClean = df['2004':'2017'].copy()\n",
    "byYear = dfClean.resample('y').count()['id']\n",
    "activeByYear = dfClean[(dfClean['stats.activeUsers']>=1)&(dfClean['users_1']>0)].resample('y').count()['id']\n",
    "activeByYear"
   ]
  },
  {
   "cell_type": "code",
   "execution_count": 5,
   "metadata": {
    "ExecuteTime": {
     "end_time": "2018-03-15T09:08:28.186413Z",
     "start_time": "2018-03-15T09:08:28.178536Z"
    },
    "collapsed": false
   },
   "outputs": [
    {
     "data": {
      "application/vnd.plotly.v1+json": {
       "data": [
        {
         "name": "Total wikis",
         "type": "bar",
         "x": [
          2004,
          2005,
          2006,
          2007,
          2008,
          2009,
          2010,
          2011,
          2012,
          2013,
          2014,
          2015,
          2016,
          2017
         ],
         "y": [
          31,
          516,
          1123,
          1111,
          3295,
          16410,
          32576,
          27429,
          31491,
          32641,
          31962,
          36450,
          35694,
          56855
         ]
        },
        {
         "name": "Active wikis",
         "type": "bar",
         "x": [
          2004,
          2005,
          2006,
          2007,
          2008,
          2009,
          2010,
          2011,
          2012,
          2013,
          2014,
          2015,
          2016,
          2017
         ],
         "y": [
          18,
          364,
          735,
          658,
          1519,
          2910,
          3705,
          3688,
          4147,
          7201,
          8675,
          15187,
          10498,
          21031
         ]
        }
       ],
       "layout": {
        "legend": {
         "x": 0.1,
         "y": 0.85
        },
        "xaxis": {
         "autotick": false,
         "tickangle": 30
        }
       }
      },
      "text/html": [
       "<div id=\"40ad6b8c-f783-447b-827d-99c9450f05c3\" style=\"height: 525px; width: 100%;\" class=\"plotly-graph-div\"></div><script type=\"text/javascript\">require([\"plotly\"], function(Plotly) { window.PLOTLYENV=window.PLOTLYENV || {};window.PLOTLYENV.BASE_URL=\"https://plot.ly\";Plotly.newPlot(\"40ad6b8c-f783-447b-827d-99c9450f05c3\", [{\"name\": \"Total wikis\", \"type\": \"bar\", \"x\": [2004, 2005, 2006, 2007, 2008, 2009, 2010, 2011, 2012, 2013, 2014, 2015, 2016, 2017], \"y\": [31, 516, 1123, 1111, 3295, 16410, 32576, 27429, 31491, 32641, 31962, 36450, 35694, 56855]}, {\"name\": \"Active wikis\", \"type\": \"bar\", \"x\": [2004, 2005, 2006, 2007, 2008, 2009, 2010, 2011, 2012, 2013, 2014, 2015, 2016, 2017], \"y\": [18, 364, 735, 658, 1519, 2910, 3705, 3688, 4147, 7201, 8675, 15187, 10498, 21031]}], {\"xaxis\": {\"autotick\": false, \"tickangle\": 30}, \"legend\": {\"x\": 0.1, \"y\": 0.85}}, {\"showLink\": true, \"linkText\": \"Export to plot.ly\"})});</script>"
      ],
      "text/vnd.plotly.v1+html": [
       "<div id=\"40ad6b8c-f783-447b-827d-99c9450f05c3\" style=\"height: 525px; width: 100%;\" class=\"plotly-graph-div\"></div><script type=\"text/javascript\">require([\"plotly\"], function(Plotly) { window.PLOTLYENV=window.PLOTLYENV || {};window.PLOTLYENV.BASE_URL=\"https://plot.ly\";Plotly.newPlot(\"40ad6b8c-f783-447b-827d-99c9450f05c3\", [{\"name\": \"Total wikis\", \"type\": \"bar\", \"x\": [2004, 2005, 2006, 2007, 2008, 2009, 2010, 2011, 2012, 2013, 2014, 2015, 2016, 2017], \"y\": [31, 516, 1123, 1111, 3295, 16410, 32576, 27429, 31491, 32641, 31962, 36450, 35694, 56855]}, {\"name\": \"Active wikis\", \"type\": \"bar\", \"x\": [2004, 2005, 2006, 2007, 2008, 2009, 2010, 2011, 2012, 2013, 2014, 2015, 2016, 2017], \"y\": [18, 364, 735, 658, 1519, 2910, 3705, 3688, 4147, 7201, 8675, 15187, 10498, 21031]}], {\"xaxis\": {\"autotick\": false, \"tickangle\": 30}, \"legend\": {\"x\": 0.1, \"y\": 0.85}}, {\"showLink\": true, \"linkText\": \"Export to plot.ly\"})});</script>"
      ]
     },
     "metadata": {},
     "output_type": "display_data"
    }
   ],
   "source": [
    "traceTotal = go.Bar(x=byYear.index.year, y=byYear.values, name=\"Total wikis\")\n",
    "traceActive = go.Bar(x=activeByYear.index.year, y=activeByYear.values, name=\"Active wikis\")\n",
    "layout = go.Layout(\n",
    "    legend=dict(x=0.1, y=0.85),\n",
    "    xaxis=dict(\n",
    "        autotick=False,\n",
    "        tickangle=30\n",
    "    )\n",
    ")\n",
    "iplot(go.Figure(data=[traceTotal, traceActive], layout=layout), filename='byYear')"
   ]
  },
  {
   "cell_type": "markdown",
   "metadata": {},
   "source": [
    "## Wiki age\n",
    "\n",
    "Instead of showing the number of wikis over the years, we will focus on the age of the active wikis in order to visualize the population pyramid."
   ]
  },
  {
   "cell_type": "code",
   "execution_count": 6,
   "metadata": {
    "ExecuteTime": {
     "end_time": "2018-03-15T09:08:44.921169Z",
     "start_time": "2018-03-15T09:08:37.221573Z"
    },
    "collapsed": false
   },
   "outputs": [],
   "source": [
    "def computeAge(birthDate):\n",
    "    timeSinceBirth = pd.Timestamp(2018, 2, 20)-birthDate\n",
    "    return int(timeSinceBirth.days/365)\n",
    "dfClean['age'] = dfClean['datetime.birthDate'].apply(computeAge)"
   ]
  },
  {
   "cell_type": "code",
   "execution_count": 7,
   "metadata": {
    "ExecuteTime": {
     "end_time": "2018-03-15T09:08:45.069752Z",
     "start_time": "2018-03-15T09:08:44.951427Z"
    },
    "collapsed": true
   },
   "outputs": [],
   "source": [
    "activeWikis = dfClean[(dfClean['stats.activeUsers']>=1)&(dfClean['users_1']>0)]\n",
    "inactiveWikis = dfClean[(dfClean['stats.activeUsers']<1)|(dfClean['users_1']==0)]"
   ]
  },
  {
   "cell_type": "code",
   "execution_count": 8,
   "metadata": {
    "ExecuteTime": {
     "end_time": "2018-03-15T09:08:45.099049Z",
     "start_time": "2018-03-15T09:08:45.070938Z"
    },
    "collapsed": false
   },
   "outputs": [],
   "source": [
    "activeByAge = activeWikis.groupby(by=['age']).url.count()\n",
    "inactiveByAge = inactiveWikis.groupby(by=['age']).url.count()"
   ]
  },
  {
   "cell_type": "code",
   "execution_count": 10,
   "metadata": {
    "ExecuteTime": {
     "end_time": "2018-03-15T09:15:12.277406Z",
     "start_time": "2018-03-15T09:15:12.263078Z"
    },
    "collapsed": false
   },
   "outputs": [
    {
     "data": {
      "application/vnd.plotly.v1+json": {
       "data": [
        {
         "fill": "tonexty",
         "line": {
          "width": 0.5
         },
         "mode": "lines",
         "name": "Active wikis",
         "type": "scatter",
         "x": [
          0,
          1,
          2,
          3,
          4,
          5,
          6,
          7,
          8,
          9,
          10,
          11,
          12,
          13
         ],
         "y": [
          19442,
          10204,
          15506,
          9060,
          7463,
          4673,
          3547,
          3745,
          3134,
          1578,
          845,
          669,
          409,
          61
         ]
        }
       ],
       "layout": {
        "legend": {
         "x": 0.4
        },
        "xaxis": {
         "domain": [
          0,
          0.5
         ],
         "tickmode": "array",
         "tickvals": [
          0,
          1,
          2,
          3,
          4,
          5,
          6,
          7,
          8,
          9,
          10,
          11,
          12,
          13,
          14,
          15,
          16,
          17,
          18,
          19
         ],
         "title": "Age (in years)"
        },
        "yaxis": {
         "title": "Number of active wikis"
        }
       }
      },
      "text/html": [
       "<div id=\"cec5989a-930a-41b5-9222-eb1646e89916\" style=\"height: 525px; width: 100%;\" class=\"plotly-graph-div\"></div><script type=\"text/javascript\">require([\"plotly\"], function(Plotly) { window.PLOTLYENV=window.PLOTLYENV || {};window.PLOTLYENV.BASE_URL=\"https://plot.ly\";Plotly.newPlot(\"cec5989a-930a-41b5-9222-eb1646e89916\", [{\"name\": \"Active wikis\", \"mode\": \"lines\", \"fill\": \"tonexty\", \"type\": \"scatter\", \"x\": [0, 1, 2, 3, 4, 5, 6, 7, 8, 9, 10, 11, 12, 13], \"line\": {\"width\": 0.5}, \"y\": [19442, 10204, 15506, 9060, 7463, 4673, 3547, 3745, 3134, 1578, 845, 669, 409, 61]}], {\"yaxis\": {\"title\": \"Number of active wikis\"}, \"xaxis\": {\"title\": \"Age (in years)\", \"tickvals\": [0, 1, 2, 3, 4, 5, 6, 7, 8, 9, 10, 11, 12, 13, 14, 15, 16, 17, 18, 19], \"domain\": [0, 0.5], \"tickmode\": \"array\"}, \"legend\": {\"x\": 0.4}}, {\"showLink\": true, \"linkText\": \"Export to plot.ly\"})});</script>"
      ],
      "text/vnd.plotly.v1+html": [
       "<div id=\"cec5989a-930a-41b5-9222-eb1646e89916\" style=\"height: 525px; width: 100%;\" class=\"plotly-graph-div\"></div><script type=\"text/javascript\">require([\"plotly\"], function(Plotly) { window.PLOTLYENV=window.PLOTLYENV || {};window.PLOTLYENV.BASE_URL=\"https://plot.ly\";Plotly.newPlot(\"cec5989a-930a-41b5-9222-eb1646e89916\", [{\"name\": \"Active wikis\", \"mode\": \"lines\", \"fill\": \"tonexty\", \"type\": \"scatter\", \"x\": [0, 1, 2, 3, 4, 5, 6, 7, 8, 9, 10, 11, 12, 13], \"line\": {\"width\": 0.5}, \"y\": [19442, 10204, 15506, 9060, 7463, 4673, 3547, 3745, 3134, 1578, 845, 669, 409, 61]}], {\"yaxis\": {\"title\": \"Number of active wikis\"}, \"xaxis\": {\"title\": \"Age (in years)\", \"tickvals\": [0, 1, 2, 3, 4, 5, 6, 7, 8, 9, 10, 11, 12, 13, 14, 15, 16, 17, 18, 19], \"domain\": [0, 0.5], \"tickmode\": \"array\"}, \"legend\": {\"x\": 0.4}}, {\"showLink\": true, \"linkText\": \"Export to plot.ly\"})});</script>"
      ]
     },
     "metadata": {},
     "output_type": "display_data"
    }
   ],
   "source": [
    "trace0 = go.Scatter(\n",
    "    x=activeByAge.index.values,\n",
    "    y=activeByAge.values,\n",
    "    mode='lines',\n",
    "    name=\"Active wikis\",\n",
    "    line=dict(width=0.5),\n",
    "    fill='tonexty'\n",
    ")\n",
    "\n",
    "trace1 = go.Scatter(\n",
    "    x=inactiveByAge.index.values,\n",
    "    y=inactiveByAge.values,\n",
    "    mode='lines',\n",
    "    name=\"Inactive wikis\",\n",
    "    line=dict(width=0.5),\n",
    "    fill='tonexty'\n",
    ")\n",
    "\n",
    "layout = go.Layout(\n",
    "    yaxis=dict(title='Number of active wikis'),\n",
    "    xaxis=dict(\n",
    "        domain=[0,0.5],\n",
    "        tickmode='array',\n",
    "        tickvals=list(range(0,20)),\n",
    "        title=\"Age (in years)\"\n",
    "    ),\n",
    "    legend=dict(\n",
    "        x=0.4\n",
    "    )\n",
    ");\n",
    "\n",
    "fig = go.Figure(data=[trace0], layout=layout)\n",
    "iplot(fig, filename='stacked-area-plot')"
   ]
  },
  {
   "cell_type": "code",
   "execution_count": null,
   "metadata": {
    "collapsed": true
   },
   "outputs": [],
   "source": []
  }
 ],
 "metadata": {
  "kernelspec": {
   "display_name": "Python 3",
   "language": "python",
   "name": "python3"
  },
  "language_info": {
   "codemirror_mode": {
    "name": "ipython",
    "version": 3
   },
   "file_extension": ".py",
   "mimetype": "text/x-python",
   "name": "python",
   "nbconvert_exporter": "python",
   "pygments_lexer": "ipython3",
   "version": "3.5.2"
  },
  "toc": {
   "colors": {
    "hover_highlight": "#DAA520",
    "navigate_num": "#000000",
    "navigate_text": "#333333",
    "running_highlight": "#FF0000",
    "selected_highlight": "#FFD700",
    "sidebar_border": "#EEEEEE",
    "wrapper_background": "#FFFFFF"
   },
   "moveMenuLeft": true,
   "nav_menu": {
    "height": "12px",
    "width": "252px"
   },
   "navigate_menu": true,
   "number_sections": true,
   "sideBar": true,
   "threshold": 4,
   "toc_cell": false,
   "toc_section_display": "block",
   "toc_window_display": false,
   "widenNotebook": false
  },
  "varInspector": {
   "cols": {
    "lenName": 16,
    "lenType": 16,
    "lenVar": 40
   },
   "kernels_config": {
    "python": {
     "delete_cmd_postfix": "",
     "delete_cmd_prefix": "del ",
     "library": "var_list.py",
     "varRefreshCmd": "print(var_dic_list())"
    },
    "r": {
     "delete_cmd_postfix": ") ",
     "delete_cmd_prefix": "rm(",
     "library": "var_list.r",
     "varRefreshCmd": "cat(var_dic_list()) "
    }
   },
   "types_to_exclude": [
    "module",
    "function",
    "builtin_function_or_method",
    "instance",
    "_Feature"
   ],
   "window_display": false
  }
 },
 "nbformat": 4,
 "nbformat_minor": 2
}
